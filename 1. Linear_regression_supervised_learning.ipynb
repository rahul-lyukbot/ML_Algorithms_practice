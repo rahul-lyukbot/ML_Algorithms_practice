{
 "cells": [
  {
   "cell_type": "markdown",
   "id": "4d5167dd",
   "metadata": {},
   "source": [
    "# Linear Regression\n",
    "* First public exposition of linear regression with least square method is publish in 1805\n",
    "* Linear regression is defined that relationship that can be define by a straight line while drawing a straight line we have to consider that where is the residual error is minimum **or** `Linear regression allow us to build the relationship between multiple features to estimate output target`\n",
    "* **Rsidual Error -** it is the distance between the point and the line\n",
    "* **Linear relationship --** `y = mx+b`\n",
    "\n",
    "* **OLS(ordinary least square) --** working with only simple linear regression problem\n"
   ]
  },
  {
   "cell_type": "markdown",
   "id": "cd08faad",
   "metadata": {},
   "source": [
    "## 1. Simple linear Regression\n",
    "* Limited to one x feature **y = mx+b** "
   ]
  },
  {
   "cell_type": "code",
   "execution_count": 1,
   "id": "4cd9ad6a",
   "metadata": {},
   "outputs": [],
   "source": [
    "import pandas as pd\n",
    "import numpy as np\n",
    "import matplotlib.pyplot as plt\n",
    "import seaborn as sns"
   ]
  },
  {
   "cell_type": "code",
   "execution_count": 5,
   "id": "b6538a54",
   "metadata": {},
   "outputs": [
    {
     "data": {
      "text/html": [
       "<div>\n",
       "<style scoped>\n",
       "    .dataframe tbody tr th:only-of-type {\n",
       "        vertical-align: middle;\n",
       "    }\n",
       "\n",
       "    .dataframe tbody tr th {\n",
       "        vertical-align: top;\n",
       "    }\n",
       "\n",
       "    .dataframe thead th {\n",
       "        text-align: right;\n",
       "    }\n",
       "</style>\n",
       "<table border=\"1\" class=\"dataframe\">\n",
       "  <thead>\n",
       "    <tr style=\"text-align: right;\">\n",
       "      <th></th>\n",
       "      <th>Unnamed: 0</th>\n",
       "      <th>TV</th>\n",
       "      <th>radio</th>\n",
       "      <th>newspaper</th>\n",
       "      <th>sales</th>\n",
       "    </tr>\n",
       "  </thead>\n",
       "  <tbody>\n",
       "    <tr>\n",
       "      <th>0</th>\n",
       "      <td>1</td>\n",
       "      <td>230.1</td>\n",
       "      <td>37.8</td>\n",
       "      <td>69.2</td>\n",
       "      <td>22.1</td>\n",
       "    </tr>\n",
       "    <tr>\n",
       "      <th>1</th>\n",
       "      <td>2</td>\n",
       "      <td>44.5</td>\n",
       "      <td>39.3</td>\n",
       "      <td>45.1</td>\n",
       "      <td>10.4</td>\n",
       "    </tr>\n",
       "    <tr>\n",
       "      <th>2</th>\n",
       "      <td>3</td>\n",
       "      <td>17.2</td>\n",
       "      <td>45.9</td>\n",
       "      <td>69.3</td>\n",
       "      <td>9.3</td>\n",
       "    </tr>\n",
       "    <tr>\n",
       "      <th>3</th>\n",
       "      <td>4</td>\n",
       "      <td>151.5</td>\n",
       "      <td>41.3</td>\n",
       "      <td>58.5</td>\n",
       "      <td>18.5</td>\n",
       "    </tr>\n",
       "    <tr>\n",
       "      <th>4</th>\n",
       "      <td>5</td>\n",
       "      <td>180.8</td>\n",
       "      <td>10.8</td>\n",
       "      <td>58.4</td>\n",
       "      <td>12.9</td>\n",
       "    </tr>\n",
       "  </tbody>\n",
       "</table>\n",
       "</div>"
      ],
      "text/plain": [
       "   Unnamed: 0     TV  radio  newspaper  sales\n",
       "0           1  230.1   37.8       69.2   22.1\n",
       "1           2   44.5   39.3       45.1   10.4\n",
       "2           3   17.2   45.9       69.3    9.3\n",
       "3           4  151.5   41.3       58.5   18.5\n",
       "4           5  180.8   10.8       58.4   12.9"
      ]
     },
     "execution_count": 5,
     "metadata": {},
     "output_type": "execute_result"
    }
   ],
   "source": [
    "# import dataset\n",
    "df = pd.read_csv(\"C:\\\\Users\\\\Rahul\\\\ML_data\\\\ad.csv\")\n",
    "df.head()"
   ]
  },
  {
   "cell_type": "code",
   "execution_count": 6,
   "id": "d8fbfd68",
   "metadata": {},
   "outputs": [
    {
     "data": {
      "text/html": [
       "<div>\n",
       "<style scoped>\n",
       "    .dataframe tbody tr th:only-of-type {\n",
       "        vertical-align: middle;\n",
       "    }\n",
       "\n",
       "    .dataframe tbody tr th {\n",
       "        vertical-align: top;\n",
       "    }\n",
       "\n",
       "    .dataframe thead th {\n",
       "        text-align: right;\n",
       "    }\n",
       "</style>\n",
       "<table border=\"1\" class=\"dataframe\">\n",
       "  <thead>\n",
       "    <tr style=\"text-align: right;\">\n",
       "      <th></th>\n",
       "      <th>Unnamed: 0</th>\n",
       "      <th>TV</th>\n",
       "      <th>radio</th>\n",
       "      <th>newspaper</th>\n",
       "      <th>sales</th>\n",
       "      <th>total_spend</th>\n",
       "    </tr>\n",
       "  </thead>\n",
       "  <tbody>\n",
       "    <tr>\n",
       "      <th>0</th>\n",
       "      <td>1</td>\n",
       "      <td>230.1</td>\n",
       "      <td>37.8</td>\n",
       "      <td>69.2</td>\n",
       "      <td>22.1</td>\n",
       "      <td>337.1</td>\n",
       "    </tr>\n",
       "    <tr>\n",
       "      <th>1</th>\n",
       "      <td>2</td>\n",
       "      <td>44.5</td>\n",
       "      <td>39.3</td>\n",
       "      <td>45.1</td>\n",
       "      <td>10.4</td>\n",
       "      <td>128.9</td>\n",
       "    </tr>\n",
       "    <tr>\n",
       "      <th>2</th>\n",
       "      <td>3</td>\n",
       "      <td>17.2</td>\n",
       "      <td>45.9</td>\n",
       "      <td>69.3</td>\n",
       "      <td>9.3</td>\n",
       "      <td>132.4</td>\n",
       "    </tr>\n",
       "    <tr>\n",
       "      <th>3</th>\n",
       "      <td>4</td>\n",
       "      <td>151.5</td>\n",
       "      <td>41.3</td>\n",
       "      <td>58.5</td>\n",
       "      <td>18.5</td>\n",
       "      <td>251.3</td>\n",
       "    </tr>\n",
       "    <tr>\n",
       "      <th>4</th>\n",
       "      <td>5</td>\n",
       "      <td>180.8</td>\n",
       "      <td>10.8</td>\n",
       "      <td>58.4</td>\n",
       "      <td>12.9</td>\n",
       "      <td>250.0</td>\n",
       "    </tr>\n",
       "  </tbody>\n",
       "</table>\n",
       "</div>"
      ],
      "text/plain": [
       "   Unnamed: 0     TV  radio  newspaper  sales  total_spend\n",
       "0           1  230.1   37.8       69.2   22.1        337.1\n",
       "1           2   44.5   39.3       45.1   10.4        128.9\n",
       "2           3   17.2   45.9       69.3    9.3        132.4\n",
       "3           4  151.5   41.3       58.5   18.5        251.3\n",
       "4           5  180.8   10.8       58.4   12.9        250.0"
      ]
     },
     "execution_count": 6,
     "metadata": {},
     "output_type": "execute_result"
    }
   ],
   "source": [
    "# as we know we can only use one feature in case of simple linear regression\n",
    "df[\"total_spend\"] = df[\"TV\"] + df[\"radio\"] + df[\"newspaper\"]\n",
    "df.head()"
   ]
  },
  {
   "cell_type": "code",
   "execution_count": 12,
   "id": "19cdfc7a",
   "metadata": {},
   "outputs": [
    {
     "data": {
      "image/png": "[encoded data removed]",
      "text/plain": [
       "<Figure size 576x432 with 1 Axes>"
      ]
     },
     "metadata": {
      "needs_background": "light"
     },
     "output_type": "display_data"
    }
   ],
   "source": [
    "# now we have total spend and th sales so we can plot the dataframe using scatter plot\n",
    "plt.figure(figsize=(8,6))\n",
    "sns.scatterplot(data=df, x= \"total_spend\", y= \"sales\")\n",
    "plt.show();\n"
   ]
  },
  {
   "cell_type": "markdown",
   "id": "5648436b",
   "metadata": {},
   "source": [
    "**as we saw that if we increaing our ad spend we get more sales so we can draw the simpel linear regression line** "
   ]
  },
  {
   "cell_type": "code",
   "execution_count": 13,
   "id": "822d8805",
   "metadata": {},
   "outputs": [
    {
     "data": {
      "image/png": "[encoded data removed]",
      "text/plain": [
       "<Figure size 576x432 with 1 Axes>"
      ]
     },
     "metadata": {
      "needs_background": "light"
     },
     "output_type": "display_data"
    }
   ],
   "source": [
    "plt.figure(figsize=(8,6))\n",
    "sns.regplot(data=df, x=\"total_spend\", y=\"sales\")\n",
    "plt.show();"
   ]
  },
  {
   "cell_type": "markdown",
   "id": "0656c9de",
   "metadata": {},
   "source": [
    "**as we know that for simple linear regression we need to find out:-**\n",
    "1. y = mx+b\n",
    "2. y = B1x+B0  **here B1 and B0 are the beta coiefficents**\n",
    "3. for simple **Linear regression** we use **np.polyfit**\n",
    "    * here poly stands for polynomial which means we can use x,x^2,x^3........"
   ]
  },
  {
   "cell_type": "code",
   "execution_count": 14,
   "id": "86fdffb1",
   "metadata": {},
   "outputs": [],
   "source": [
    "# set up features and labels\n",
    "X = df[\"total_spend\"]\n",
    "y = df[\"sales\"]"
   ]
  },
  {
   "cell_type": "code",
   "execution_count": 16,
   "id": "573a2426",
   "metadata": {},
   "outputs": [
    {
     "data": {
      "text/plain": [
       "array([0.04868788, 4.24302822])"
      ]
     },
     "execution_count": 16,
     "metadata": {},
     "output_type": "execute_result"
    }
   ],
   "source": [
    "result_arr = np.polyfit(x = X, y = y, deg=1)\n",
    "result_arr"
   ]
  },
  {
   "cell_type": "code",
   "execution_count": 19,
   "id": "400d0239",
   "metadata": {},
   "outputs": [
    {
     "data": {
      "text/plain": [
       "(0.04868787931904819, 4.2430282160363255)"
      ]
     },
     "execution_count": 19,
     "metadata": {},
     "output_type": "execute_result"
    }
   ],
   "source": [
    "B1, B0 = result_arr[0], result_arr[1]\n",
    "B1,B0"
   ]
  },
  {
   "cell_type": "code",
   "execution_count": 22,
   "id": "ab02899d",
   "metadata": {},
   "outputs": [
    {
     "data": {
      "text/plain": [
       "array([ 0.        ,  5.05050505, 10.1010101 , 15.15151515, 20.2020202 ,\n",
       "       25.25252525, 30.3030303 , 35.35353535, 40.4040404 , 45.45454545])"
      ]
     },
     "execution_count": 22,
     "metadata": {},
     "output_type": "execute_result"
    }
   ],
   "source": [
    "# now make some data acc to range of total_spend\n",
    "potential_spend = np.linspace(0,500,100)\n",
    "potential_spend[:10]"
   ]
  },
  {
   "cell_type": "code",
   "execution_count": 24,
   "id": "ea2ea2f6",
   "metadata": {},
   "outputs": [
    {
     "data": {
      "text/plain": [
       "array([4.24302822, 4.4889266 , 4.73482498, 4.98072336, 5.22662174,\n",
       "       5.47252012, 5.7184185 , 5.96431688, 6.21021526, 6.45611364])"
      ]
     },
     "execution_count": 24,
     "metadata": {},
     "output_type": "execute_result"
    }
   ],
   "source": [
    "# now making prediction using formula \"y = B1x+B0\"\n",
    "pred_sales = B1*potential_spend+B0\n",
    "pred_sales[:10]"
   ]
  },
  {
   "cell_type": "code",
   "execution_count": 36,
   "id": "7e48b03b",
   "metadata": {},
   "outputs": [
    {
     "data": {
      "image/png": "[encoded data removed]",
      "text/plain": [
       "<Figure size 576x432 with 1 Axes>"
      ]
     },
     "metadata": {
      "needs_background": "light"
     },
     "output_type": "display_data"
    }
   ],
   "source": [
    "# now visualizing our prediction and the actual dataset\n",
    "plt.figure(figsize=(8,6))\n",
    "sns.scatterplot(data=df, x=\"total_spend\", y=\"sales\")\n",
    "plt.plot(potential_spend, pred_sales, color=\"red\")\n",
    "plt.show();"
   ]
  },
  {
   "cell_type": "code",
   "execution_count": 37,
   "id": "0cd2d233",
   "metadata": {},
   "outputs": [
    {
     "data": {
      "text/plain": [
       "16.41499804579837"
      ]
     },
     "execution_count": 37,
     "metadata": {},
     "output_type": "execute_result"
    }
   ],
   "source": [
    "# let's make some prediction\n",
    "spend = 250\n",
    "preds  = B1*spend+B0\n",
    "preds"
   ]
  },
  {
   "cell_type": "code",
   "execution_count": 38,
   "id": "658853c1",
   "metadata": {},
   "outputs": [
    {
     "data": {
      "text/plain": [
       "array([ 3.07615033e-07, -1.89392449e-04,  8.20886302e-02,  2.70495053e+00])"
      ]
     },
     "execution_count": 38,
     "metadata": {},
     "output_type": "execute_result"
    }
   ],
   "source": [
    "# now let's work with 3 degree\n",
    "res_arr = np.polyfit(X,y,3)\n",
    "res_arr"
   ]
  },
  {
   "cell_type": "markdown",
   "id": "b8ba3f19",
   "metadata": {},
   "source": [
    "`now instead of y= B1x+B0 we use y = B3x**3+B2x**2+B1x**1+B0`"
   ]
  },
  {
   "cell_type": "code",
   "execution_count": 40,
   "id": "ba7a44ff",
   "metadata": {},
   "outputs": [
    {
     "data": {
      "text/plain": [
       "array([2.70495053, 3.11474825, 3.51512186, 3.90630911, 4.28854779,\n",
       "       4.66207567, 5.02713053, 5.38395013, 5.73277224, 6.07383466])"
      ]
     },
     "execution_count": 40,
     "metadata": {},
     "output_type": "execute_result"
    }
   ],
   "source": [
    "pred_sales_new = 3.07615033e-07*potential_spend**3 + -1.89392449e-04*potential_spend**2 + 8.20886302e-02*potential_spend +2.70495053e+00\n",
    "pred_sales_new[:10]"
   ]
  },
  {
   "cell_type": "code",
   "execution_count": 41,
   "id": "62f1ed40",
   "metadata": {},
   "outputs": [
    {
     "data": {
      "image/png": "[encoded data removed]",
      "text/plain": [
       "<Figure size 576x432 with 1 Axes>"
      ]
     },
     "metadata": {
      "needs_background": "light"
     },
     "output_type": "display_data"
    }
   ],
   "source": [
    "plt.figure(figsize=(8,6))\n",
    "sns.scatterplot(data=df, x=\"total_spend\", y=\"sales\")\n",
    "plt.plot(potential_spend, pred_sales_new, color=\"red\")\n",
    "plt.show();"
   ]
  },
  {
   "cell_type": "markdown",
   "id": "ae867e43",
   "metadata": {},
   "source": [
    "## Scikit-Learn "
   ]
  },
  {
   "cell_type": "code",
   "execution_count": 43,
   "id": "75033c5a",
   "metadata": {},
   "outputs": [
    {
     "data": {
      "text/html": [
       "<div>\n",
       "<style scoped>\n",
       "    .dataframe tbody tr th:only-of-type {\n",
       "        vertical-align: middle;\n",
       "    }\n",
       "\n",
       "    .dataframe tbody tr th {\n",
       "        vertical-align: top;\n",
       "    }\n",
       "\n",
       "    .dataframe thead th {\n",
       "        text-align: right;\n",
       "    }\n",
       "</style>\n",
       "<table border=\"1\" class=\"dataframe\">\n",
       "  <thead>\n",
       "    <tr style=\"text-align: right;\">\n",
       "      <th></th>\n",
       "      <th>Unnamed: 0</th>\n",
       "      <th>TV</th>\n",
       "      <th>radio</th>\n",
       "      <th>newspaper</th>\n",
       "      <th>sales</th>\n",
       "    </tr>\n",
       "  </thead>\n",
       "  <tbody>\n",
       "    <tr>\n",
       "      <th>0</th>\n",
       "      <td>1</td>\n",
       "      <td>230.1</td>\n",
       "      <td>37.8</td>\n",
       "      <td>69.2</td>\n",
       "      <td>22.1</td>\n",
       "    </tr>\n",
       "    <tr>\n",
       "      <th>1</th>\n",
       "      <td>2</td>\n",
       "      <td>44.5</td>\n",
       "      <td>39.3</td>\n",
       "      <td>45.1</td>\n",
       "      <td>10.4</td>\n",
       "    </tr>\n",
       "    <tr>\n",
       "      <th>2</th>\n",
       "      <td>3</td>\n",
       "      <td>17.2</td>\n",
       "      <td>45.9</td>\n",
       "      <td>69.3</td>\n",
       "      <td>9.3</td>\n",
       "    </tr>\n",
       "    <tr>\n",
       "      <th>3</th>\n",
       "      <td>4</td>\n",
       "      <td>151.5</td>\n",
       "      <td>41.3</td>\n",
       "      <td>58.5</td>\n",
       "      <td>18.5</td>\n",
       "    </tr>\n",
       "    <tr>\n",
       "      <th>4</th>\n",
       "      <td>5</td>\n",
       "      <td>180.8</td>\n",
       "      <td>10.8</td>\n",
       "      <td>58.4</td>\n",
       "      <td>12.9</td>\n",
       "    </tr>\n",
       "  </tbody>\n",
       "</table>\n",
       "</div>"
      ],
      "text/plain": [
       "   Unnamed: 0     TV  radio  newspaper  sales\n",
       "0           1  230.1   37.8       69.2   22.1\n",
       "1           2   44.5   39.3       45.1   10.4\n",
       "2           3   17.2   45.9       69.3    9.3\n",
       "3           4  151.5   41.3       58.5   18.5\n",
       "4           5  180.8   10.8       58.4   12.9"
      ]
     },
     "execution_count": 43,
     "metadata": {},
     "output_type": "execute_result"
    }
   ],
   "source": [
    "# dataset\n",
    "df = pd.read_csv(\"C:\\\\Users\\\\Rahul\\\\ML_data\\\\ad.csv\")\n",
    "df.head()"
   ]
  },
  {
   "cell_type": "code",
   "execution_count": 44,
   "id": "11576d3a",
   "metadata": {},
   "outputs": [
    {
     "data": {
      "text/plain": [
       "<seaborn.axisgrid.PairGrid at 0x1a8cbed6820>"
      ]
     },
     "execution_count": 44,
     "metadata": {},
     "output_type": "execute_result"
    },
    {
     "data": {
      "image/png": "[encoded data removed]",
      "text/plain": [
       "<Figure size 900x900 with 30 Axes>"
      ]
     },
     "metadata": {
      "needs_background": "light"
     },
     "output_type": "display_data"
    }
   ],
   "source": [
    "# for finging the relationship between every features and labels we can plot all of these for we can use both matplotlib and seaborns\n",
    "sns.pairplot(df)"
   ]
  },
  {
   "cell_type": "code",
   "execution_count": 54,
   "id": "5d064ff9",
   "metadata": {},
   "outputs": [
    {
     "data": {
      "image/png": "[encoded data removed]",
      "text/plain": [
       "<Figure size 1152x360 with 3 Axes>"
      ]
     },
     "metadata": {
      "needs_background": "light"
     },
     "output_type": "display_data"
    }
   ],
   "source": [
    "fig,axes = plt.subplots(nrows=1, ncols = 3 , figsize=(16,5))\n",
    "axes[0].plot(df[\"TV\"], df[\"sales\"], \"o\")\n",
    "axes[0].set_title(\"TV spend\")\n",
    "\n",
    "axes[1].plot(df[\"newspaper\"], df[\"sales\"], \"o\")\n",
    "axes[1].set_title(\"newspaper spend\")\n",
    "\n",
    "axes[2].plot(df[\"radio\"], df[\"sales\"], \"o\")\n",
    "axes[2].set_title(\"radio spend\")\n",
    "plt.show();"
   ]
  },
  {
   "cell_type": "code",
   "execution_count": 58,
   "id": "8d6ed4d3",
   "metadata": {},
   "outputs": [
    {
     "data": {
      "text/html": [
       "<div>\n",
       "<style scoped>\n",
       "    .dataframe tbody tr th:only-of-type {\n",
       "        vertical-align: middle;\n",
       "    }\n",
       "\n",
       "    .dataframe tbody tr th {\n",
       "        vertical-align: top;\n",
       "    }\n",
       "\n",
       "    .dataframe thead th {\n",
       "        text-align: right;\n",
       "    }\n",
       "</style>\n",
       "<table border=\"1\" class=\"dataframe\">\n",
       "  <thead>\n",
       "    <tr style=\"text-align: right;\">\n",
       "      <th></th>\n",
       "      <th>Unnamed: 0</th>\n",
       "      <th>TV</th>\n",
       "      <th>radio</th>\n",
       "      <th>newspaper</th>\n",
       "    </tr>\n",
       "  </thead>\n",
       "  <tbody>\n",
       "    <tr>\n",
       "      <th>0</th>\n",
       "      <td>1</td>\n",
       "      <td>230.1</td>\n",
       "      <td>37.8</td>\n",
       "      <td>69.2</td>\n",
       "    </tr>\n",
       "    <tr>\n",
       "      <th>1</th>\n",
       "      <td>2</td>\n",
       "      <td>44.5</td>\n",
       "      <td>39.3</td>\n",
       "      <td>45.1</td>\n",
       "    </tr>\n",
       "    <tr>\n",
       "      <th>2</th>\n",
       "      <td>3</td>\n",
       "      <td>17.2</td>\n",
       "      <td>45.9</td>\n",
       "      <td>69.3</td>\n",
       "    </tr>\n",
       "    <tr>\n",
       "      <th>3</th>\n",
       "      <td>4</td>\n",
       "      <td>151.5</td>\n",
       "      <td>41.3</td>\n",
       "      <td>58.5</td>\n",
       "    </tr>\n",
       "    <tr>\n",
       "      <th>4</th>\n",
       "      <td>5</td>\n",
       "      <td>180.8</td>\n",
       "      <td>10.8</td>\n",
       "      <td>58.4</td>\n",
       "    </tr>\n",
       "    <tr>\n",
       "      <th>...</th>\n",
       "      <td>...</td>\n",
       "      <td>...</td>\n",
       "      <td>...</td>\n",
       "      <td>...</td>\n",
       "    </tr>\n",
       "    <tr>\n",
       "      <th>195</th>\n",
       "      <td>196</td>\n",
       "      <td>38.2</td>\n",
       "      <td>3.7</td>\n",
       "      <td>13.8</td>\n",
       "    </tr>\n",
       "    <tr>\n",
       "      <th>196</th>\n",
       "      <td>197</td>\n",
       "      <td>94.2</td>\n",
       "      <td>4.9</td>\n",
       "      <td>8.1</td>\n",
       "    </tr>\n",
       "    <tr>\n",
       "      <th>197</th>\n",
       "      <td>198</td>\n",
       "      <td>177.0</td>\n",
       "      <td>9.3</td>\n",
       "      <td>6.4</td>\n",
       "    </tr>\n",
       "    <tr>\n",
       "      <th>198</th>\n",
       "      <td>199</td>\n",
       "      <td>283.6</td>\n",
       "      <td>42.0</td>\n",
       "      <td>66.2</td>\n",
       "    </tr>\n",
       "    <tr>\n",
       "      <th>199</th>\n",
       "      <td>200</td>\n",
       "      <td>232.1</td>\n",
       "      <td>8.6</td>\n",
       "      <td>8.7</td>\n",
       "    </tr>\n",
       "  </tbody>\n",
       "</table>\n",
       "<p>200 rows × 4 columns</p>\n",
       "</div>"
      ],
      "text/plain": [
       "     Unnamed: 0     TV  radio  newspaper\n",
       "0             1  230.1   37.8       69.2\n",
       "1             2   44.5   39.3       45.1\n",
       "2             3   17.2   45.9       69.3\n",
       "3             4  151.5   41.3       58.5\n",
       "4             5  180.8   10.8       58.4\n",
       "..          ...    ...    ...        ...\n",
       "195         196   38.2    3.7       13.8\n",
       "196         197   94.2    4.9        8.1\n",
       "197         198  177.0    9.3        6.4\n",
       "198         199  283.6   42.0       66.2\n",
       "199         200  232.1    8.6        8.7\n",
       "\n",
       "[200 rows x 4 columns]"
      ]
     },
     "execution_count": 58,
     "metadata": {},
     "output_type": "execute_result"
    }
   ],
   "source": [
    "# setup features and labels\n",
    "X = df.drop(\"sales\", axis=1)\n",
    "X"
   ]
  },
  {
   "cell_type": "code",
   "execution_count": 59,
   "id": "f7393d08",
   "metadata": {},
   "outputs": [
    {
     "data": {
      "text/plain": [
       "0      22.1\n",
       "1      10.4\n",
       "2       9.3\n",
       "3      18.5\n",
       "4      12.9\n",
       "       ... \n",
       "195     7.6\n",
       "196     9.7\n",
       "197    12.8\n",
       "198    25.5\n",
       "199    13.4\n",
       "Name: sales, Length: 200, dtype: float64"
      ]
     },
     "execution_count": 59,
     "metadata": {},
     "output_type": "execute_result"
    }
   ],
   "source": [
    "y = df[\"sales\"]\n",
    "y"
   ]
  },
  {
   "cell_type": "code",
   "execution_count": 61,
   "id": "28530292",
   "metadata": {},
   "outputs": [],
   "source": [
    "from sklearn.model_selection import train_test_split"
   ]
  },
  {
   "cell_type": "code",
   "execution_count": 65,
   "id": "ca89a34f",
   "metadata": {},
   "outputs": [],
   "source": [
    "X_train, X_test, y_train, y_test = train_test_split(X,y , random_state = 42, test_size = 0.3)"
   ]
  },
  {
   "cell_type": "code",
   "execution_count": 66,
   "id": "0751abc0",
   "metadata": {},
   "outputs": [
    {
     "data": {
      "text/plain": [
       "(140, 60, 140, 60)"
      ]
     },
     "execution_count": 66,
     "metadata": {},
     "output_type": "execute_result"
    }
   ],
   "source": [
    "len(X_train), len(X_test), len(y_train), len(y_test)"
   ]
  },
  {
   "cell_type": "markdown",
   "id": "43b4c94c",
   "metadata": {},
   "source": [
    "### 1. Model_1. Linear_Regression with scikit-learn"
   ]
  },
  {
   "cell_type": "code",
   "execution_count": 67,
   "id": "4db7e68d",
   "metadata": {},
   "outputs": [],
   "source": [
    "from sklearn.linear_model import LinearRegression"
   ]
  },
  {
   "cell_type": "code",
   "execution_count": 68,
   "id": "bb56bf40",
   "metadata": {},
   "outputs": [
    {
     "data": {
      "text/plain": [
       "LinearRegression()"
      ]
     },
     "execution_count": 68,
     "metadata": {},
     "output_type": "execute_result"
    }
   ],
   "source": [
    "# Create model_1\n",
    "model_1 = LinearRegression()\n",
    "# fit model_1\n",
    "model_1.fit(X_train, y_train)\n"
   ]
  },
  {
   "cell_type": "code",
   "execution_count": 70,
   "id": "8563b8c8",
   "metadata": {},
   "outputs": [
    {
     "data": {
      "text/plain": [
       "array([16.56581778, 21.1804797 , 21.54440211, 10.89594674, 22.20422155,\n",
       "       13.35811188, 21.19371189,  7.35723223, 13.28243942, 15.11907355])"
      ]
     },
     "execution_count": 70,
     "metadata": {},
     "output_type": "execute_result"
    }
   ],
   "source": [
    "# make prediction on model_1\n",
    "model_1_pred = model_1.predict(X_test)\n",
    "model_1_pred[:10]"
   ]
  },
  {
   "cell_type": "markdown",
   "id": "80e3fd99",
   "metadata": {},
   "source": [
    "#### Evaluation performance of Regression\n",
    "**as we know that for Regression problem accuracy and recall are not suitable. For evaluation purpose of Regression we have these metrics/method**\n",
    "* **1. MAE - Mean Absolute Error**\n",
    "* **2. MSE - Mean Squared Error**\n",
    "* **3. RMSE - Root Mean Square Error**"
   ]
  },
  {
   "cell_type": "code",
   "execution_count": 71,
   "id": "a6c7f411",
   "metadata": {},
   "outputs": [],
   "source": [
    "# let's finding the error in our model performance\n",
    "from sklearn.metrics import mean_absolute_error, mean_squared_error"
   ]
  },
  {
   "cell_type": "markdown",
   "id": "81cc1571",
   "metadata": {},
   "source": [
    "**Model_1_MAE**"
   ]
  },
  {
   "cell_type": "code",
   "execution_count": 72,
   "id": "d476a4b9",
   "metadata": {},
   "outputs": [
    {
     "data": {
      "text/plain": [
       "1.5120955091829722"
      ]
     },
     "execution_count": 72,
     "metadata": {},
     "output_type": "execute_result"
    }
   ],
   "source": [
    "model_1_mae = mean_absolute_error(y_true=y_test, y_pred=model_1_pred)\n",
    "model_1_mae"
   ]
  },
  {
   "cell_type": "markdown",
   "id": "c0a64650",
   "metadata": {},
   "source": [
    "**Model_1_MSE**"
   ]
  },
  {
   "cell_type": "code",
   "execution_count": 73,
   "id": "3fe007a6",
   "metadata": {},
   "outputs": [
    {
     "data": {
      "text/plain": [
       "3.797646660967102"
      ]
     },
     "execution_count": 73,
     "metadata": {},
     "output_type": "execute_result"
    }
   ],
   "source": [
    "model_1_mse = mean_squared_error(y_true=y_test, y_pred = model_1_pred)\n",
    "model_1_mse"
   ]
  },
  {
   "cell_type": "markdown",
   "id": "8dc64a5e",
   "metadata": {},
   "source": [
    "**Model_1_RMSE**"
   ]
  },
  {
   "cell_type": "code",
   "execution_count": 74,
   "id": "77b32a75",
   "metadata": {},
   "outputs": [
    {
     "data": {
      "text/plain": [
       "1.9487551567518948"
      ]
     },
     "execution_count": 74,
     "metadata": {},
     "output_type": "execute_result"
    }
   ],
   "source": [
    "model_1_rmse = np.sqrt(model_1_mse)\n",
    "model_1_rmse"
   ]
  },
  {
   "cell_type": "code",
   "execution_count": 75,
   "id": "43e2319a",
   "metadata": {},
   "outputs": [
    {
     "data": {
      "text/plain": [
       "14.022500000000003"
      ]
     },
     "execution_count": 75,
     "metadata": {},
     "output_type": "execute_result"
    }
   ],
   "source": [
    "# for finding that this error is acceptable or not we can use the distribution and average value of sales\n",
    "# mean value\n",
    "df[\"sales\"].mean()"
   ]
  },
  {
   "cell_type": "code",
   "execution_count": 76,
   "id": "5035ae8a",
   "metadata": {},
   "outputs": [
    {
     "data": {
      "text/plain": [
       "<AxesSubplot:xlabel='sales', ylabel='Count'>"
      ]
     },
     "execution_count": 76,
     "metadata": {},
     "output_type": "execute_result"
    },
    {
     "data": {
      "image/png": "[encoded data removed]",
      "text/plain": [
       "<Figure size 432x288 with 1 Axes>"
      ]
     },
     "metadata": {
      "needs_background": "light"
     },
     "output_type": "display_data"
    }
   ],
   "source": [
    "# distribution of sales\n",
    "sns.histplot(df[\"sales\"], bins=20)"
   ]
  },
  {
   "cell_type": "markdown",
   "id": "f9a3fc71",
   "metadata": {},
   "source": [
    "#### Residual Error"
   ]
  },
  {
   "cell_type": "code",
   "execution_count": 78,
   "id": "3777fe6f",
   "metadata": {},
   "outputs": [
    {
     "data": {
      "text/plain": [
       "95     0.334182\n",
       "15     1.219520\n",
       "30    -0.144402\n",
       "158   -3.595947\n",
       "128    2.495778\n",
       "115   -0.758112\n",
       "69     1.106288\n",
       "170    1.042768\n",
       "174   -1.782439\n",
       "45    -0.219074\n",
       "Name: sales, dtype: float64"
      ]
     },
     "execution_count": 78,
     "metadata": {},
     "output_type": "execute_result"
    }
   ],
   "source": [
    "model_1_residual_error = y_test - model_1_pred\n",
    "model_1_residual_error[:10]"
   ]
  },
  {
   "cell_type": "code",
   "execution_count": 83,
   "id": "8bbdfaf8",
   "metadata": {},
   "outputs": [
    {
     "data": {
      "text/plain": [
       "<matplotlib.lines.Line2D at 0x1a8ce7deca0>"
      ]
     },
     "execution_count": 83,
     "metadata": {},
     "output_type": "execute_result"
    },
    {
     "data": {
      "image/png": "[encoded data removed]",
      "text/plain": [
       "<Figure size 432x288 with 1 Axes>"
      ]
     },
     "metadata": {
      "needs_background": "light"
     },
     "output_type": "display_data"
    }
   ],
   "source": [
    "# plot our residual error to check out this dataset is valid for linear regression or not\n",
    "sns.scatterplot(x=y_test, y=model_1_residual_error)\n",
    "plt.axhline(y=0, ls=\"--\", color=\"red\")"
   ]
  },
  {
   "cell_type": "code",
   "execution_count": 86,
   "id": "95d93987",
   "metadata": {},
   "outputs": [
    {
     "data": {
      "text/plain": [
       "<seaborn.axisgrid.FacetGrid at 0x1a8cf241160>"
      ]
     },
     "execution_count": 86,
     "metadata": {},
     "output_type": "execute_result"
    },
    {
     "data": {
      "image/png": "[encoded data removed]",
      "text/plain": [
       "<Figure size 360x360 with 1 Axes>"
      ]
     },
     "metadata": {
      "needs_background": "light"
     },
     "output_type": "display_data"
    }
   ],
   "source": [
    "sns.displot(model_1_residual_error, bins = 25, kde=True)"
   ]
  },
  {
   "cell_type": "code",
   "execution_count": 87,
   "id": "93f66a53",
   "metadata": {},
   "outputs": [
    {
     "data": {
      "text/plain": [
       "<AxesSubplot:xlabel='sales', ylabel='Density'>"
      ]
     },
     "execution_count": 87,
     "metadata": {},
     "output_type": "execute_result"
    },
    {
     "data": {
      "image/png": "[encoded data removed]",
      "text/plain": [
       "<Figure size 432x288 with 1 Axes>"
      ]
     },
     "metadata": {
      "needs_background": "light"
     },
     "output_type": "display_data"
    }
   ],
   "source": [
    "sns.kdeplot(model_1_residual_error)"
   ]
  },
  {
   "cell_type": "markdown",
   "id": "88323b8b",
   "metadata": {},
   "source": [
    "## Model Deployment \n",
    "saving and loading model"
   ]
  },
  {
   "cell_type": "code",
   "execution_count": 88,
   "id": "e67df060",
   "metadata": {},
   "outputs": [
    {
     "data": {
      "text/plain": [
       "LinearRegression()"
      ]
     },
     "execution_count": 88,
     "metadata": {},
     "output_type": "execute_result"
    }
   ],
   "source": [
    "model_1_final = LinearRegression()\n",
    "# here we fit our final model on whole dataset\n",
    "model_1_final.fit(X, y)\n"
   ]
  },
  {
   "cell_type": "code",
   "execution_count": 90,
   "id": "f49e4add",
   "metadata": {
    "scrolled": false
   },
   "outputs": [
    {
     "data": {
      "text/plain": [
       "array([-0.00057983,  0.04577592,  0.18838318, -0.00124333])"
      ]
     },
     "execution_count": 90,
     "metadata": {},
     "output_type": "execute_result"
    }
   ],
   "source": [
    "model_1_final.coef_"
   ]
  },
  {
   "cell_type": "code",
   "execution_count": 99,
   "id": "abb92206",
   "metadata": {},
   "outputs": [
    {
     "data": {
      "text/html": [
       "<div>\n",
       "<style scoped>\n",
       "    .dataframe tbody tr th:only-of-type {\n",
       "        vertical-align: middle;\n",
       "    }\n",
       "\n",
       "    .dataframe tbody tr th {\n",
       "        vertical-align: top;\n",
       "    }\n",
       "\n",
       "    .dataframe thead th {\n",
       "        text-align: right;\n",
       "    }\n",
       "</style>\n",
       "<table border=\"1\" class=\"dataframe\">\n",
       "  <thead>\n",
       "    <tr style=\"text-align: right;\">\n",
       "      <th></th>\n",
       "      <th>Unnamed: 0</th>\n",
       "      <th>TV</th>\n",
       "      <th>radio</th>\n",
       "      <th>newspaper</th>\n",
       "    </tr>\n",
       "  </thead>\n",
       "  <tbody>\n",
       "    <tr>\n",
       "      <th>0</th>\n",
       "      <td>1</td>\n",
       "      <td>230.1</td>\n",
       "      <td>37.8</td>\n",
       "      <td>69.2</td>\n",
       "    </tr>\n",
       "    <tr>\n",
       "      <th>1</th>\n",
       "      <td>2</td>\n",
       "      <td>44.5</td>\n",
       "      <td>39.3</td>\n",
       "      <td>45.1</td>\n",
       "    </tr>\n",
       "    <tr>\n",
       "      <th>2</th>\n",
       "      <td>3</td>\n",
       "      <td>17.2</td>\n",
       "      <td>45.9</td>\n",
       "      <td>69.3</td>\n",
       "    </tr>\n",
       "    <tr>\n",
       "      <th>3</th>\n",
       "      <td>4</td>\n",
       "      <td>151.5</td>\n",
       "      <td>41.3</td>\n",
       "      <td>58.5</td>\n",
       "    </tr>\n",
       "    <tr>\n",
       "      <th>4</th>\n",
       "      <td>5</td>\n",
       "      <td>180.8</td>\n",
       "      <td>10.8</td>\n",
       "      <td>58.4</td>\n",
       "    </tr>\n",
       "  </tbody>\n",
       "</table>\n",
       "</div>"
      ],
      "text/plain": [
       "   Unnamed: 0     TV  radio  newspaper\n",
       "0           1  230.1   37.8       69.2\n",
       "1           2   44.5   39.3       45.1\n",
       "2           3   17.2   45.9       69.3\n",
       "3           4  151.5   41.3       58.5\n",
       "4           5  180.8   10.8       58.4"
      ]
     },
     "execution_count": 99,
     "metadata": {},
     "output_type": "execute_result"
    }
   ],
   "source": [
    "X.head()"
   ]
  },
  {
   "cell_type": "code",
   "execution_count": 98,
   "id": "73c059eb",
   "metadata": {},
   "outputs": [
    {
     "data": {
      "text/plain": [
       "array([20.57251457, 12.38846299, 12.35144103, 17.64543251, 13.24052459,\n",
       "       12.51866879, 11.78301601, 12.180724  ,  3.78802522, 12.60887762])"
      ]
     },
     "execution_count": 98,
     "metadata": {},
     "output_type": "execute_result"
    }
   ],
   "source": [
    "y_hat = model_1_final.predict(X)   # we can predict it but as we know our model know this dataset on training phase so testing it on same data is not does anything good to us.\n",
    "y_hat[:10]"
   ]
  },
  {
   "cell_type": "markdown",
   "id": "979d69d5",
   "metadata": {},
   "source": [
    "**here these coefficient says that on increase one unit on the feature side/x-axis side there is the B coefficient times increase in y-axis**\n",
    "\n",
    "* **so here coefficient give us these information about our perticular features**\n",
    "    * **If coefficient is postive than it's good to consider and it gives tha better result**\n",
    "    * **If coefficent is negative than it's not good to consider**\n",
    "    * **And if coefficent is 0 than it's have no effect on perfromance so it's good to leave it**"
   ]
  },
  {
   "cell_type": "markdown",
   "id": "f982f854",
   "metadata": {},
   "source": [
    "**So if we want to visualize our model perfomance through graph we can plot our real plot vs pred plot to check our our model performance but if we have more tha 4-5 features it tidious to do the task**"
   ]
  },
  {
   "cell_type": "code",
   "execution_count": 101,
   "id": "d4998510",
   "metadata": {},
   "outputs": [
    {
     "data": {
      "image/png": "[encoded data removed]",
      "text/plain": [
       "<Figure size 1152x432 with 3 Axes>"
      ]
     },
     "metadata": {
      "needs_background": "light"
     },
     "output_type": "display_data"
    }
   ],
   "source": [
    "# plotting our model performance \n",
    "fig,axes = plt.subplots(nrows=1, ncols=3, figsize=(16,6))\n",
    "\n",
    "axes[0].plot(df[\"TV\"], df[\"sales\"], \"o\", color=\"blue\")\n",
    "axes[0].plot(df[\"TV\"], y_hat, \"o\", color=\"red\")\n",
    "axes[0].set_title(\"TV\")\n",
    "axes[0].set_ylabel(\"sales\")\n",
    "\n",
    "axes[1].plot(df[\"newspaper\"], df[\"sales\"], \"o\", color=\"blue\")\n",
    "axes[1].plot(df[\"newspaper\"], y_hat, \"o\", color=\"red\")\n",
    "axes[1].set_title(\"newspaper\")\n",
    "axes[1].set_ylabel(\"sales\")\n",
    "\n",
    "axes[2].plot(df[\"radio\"], df[\"sales\"], \"o\", color=\"blue\")\n",
    "axes[2].plot(df[\"radio\"], y_hat, \"o\", color=\"red\")\n",
    "axes[2].set_title(\"radio\")\n",
    "axes[2].set_ylabel(\"sales\")\n",
    "plt.tight_layout();"
   ]
  },
  {
   "cell_type": "markdown",
   "id": "954fe079",
   "metadata": {},
   "source": [
    "### Sving and loading model"
   ]
  },
  {
   "cell_type": "code",
   "execution_count": 102,
   "id": "6a43fcce",
   "metadata": {},
   "outputs": [],
   "source": [
    "from joblib import dump,load"
   ]
  },
  {
   "cell_type": "code",
   "execution_count": 106,
   "id": "d5836129",
   "metadata": {},
   "outputs": [
    {
     "data": {
      "text/plain": [
       "['model_1_final.joblib']"
      ]
     },
     "execution_count": 106,
     "metadata": {},
     "output_type": "execute_result"
    }
   ],
   "source": [
    "# save model\n",
    "dump(model_1_final, filename=\"model_1_final.joblib\")"
   ]
  },
  {
   "cell_type": "code",
   "execution_count": 109,
   "id": "03c91567",
   "metadata": {},
   "outputs": [],
   "source": [
    "# load model\n",
    "loaded_model =load(\"model_1_final.joblib\")"
   ]
  },
  {
   "cell_type": "code",
   "execution_count": 110,
   "id": "f2b27104",
   "metadata": {},
   "outputs": [
    {
     "data": {
      "text/plain": [
       "array([-0.00057983,  0.04577592,  0.18838318, -0.00124333])"
      ]
     },
     "execution_count": 110,
     "metadata": {},
     "output_type": "execute_result"
    }
   ],
   "source": [
    "loaded_model.coef_"
   ]
  },
  {
   "cell_type": "markdown",
   "id": "53f801c1",
   "metadata": {},
   "source": [
    "## Polynomial Regression\n",
    "**This type of regression resolve two issue for us**\n",
    "* 1. when feature/data is non linear like y = log(x) **So may be we get a better result with a higher degree of fetures  y = log(x)^2, y = log(x)^3**\n",
    "\n",
    "* 2. when there is intraction between two features like **in our Advertising example if we combine TV and newspaper together we get better result in campare of single featue like TV or newspaper only**"
   ]
  },
  {
   "cell_type": "code",
   "execution_count": 1,
   "id": "9f76ce10",
   "metadata": {},
   "outputs": [],
   "source": [
    "import pandas as pd\n",
    "import numpy as np\n",
    "import matplotlib.pyplot as plt\n",
    "import seaborn as sns"
   ]
  },
  {
   "cell_type": "code",
   "execution_count": 2,
   "id": "43674f7d",
   "metadata": {},
   "outputs": [
    {
     "data": {
      "text/html": [
       "<div>\n",
       "<style scoped>\n",
       "    .dataframe tbody tr th:only-of-type {\n",
       "        vertical-align: middle;\n",
       "    }\n",
       "\n",
       "    .dataframe tbody tr th {\n",
       "        vertical-align: top;\n",
       "    }\n",
       "\n",
       "    .dataframe thead th {\n",
       "        text-align: right;\n",
       "    }\n",
       "</style>\n",
       "<table border=\"1\" class=\"dataframe\">\n",
       "  <thead>\n",
       "    <tr style=\"text-align: right;\">\n",
       "      <th></th>\n",
       "      <th>TV</th>\n",
       "      <th>radio</th>\n",
       "      <th>newspaper</th>\n",
       "      <th>sales</th>\n",
       "    </tr>\n",
       "  </thead>\n",
       "  <tbody>\n",
       "    <tr>\n",
       "      <th>0</th>\n",
       "      <td>230.1</td>\n",
       "      <td>37.8</td>\n",
       "      <td>69.2</td>\n",
       "      <td>22.1</td>\n",
       "    </tr>\n",
       "    <tr>\n",
       "      <th>1</th>\n",
       "      <td>44.5</td>\n",
       "      <td>39.3</td>\n",
       "      <td>45.1</td>\n",
       "      <td>10.4</td>\n",
       "    </tr>\n",
       "    <tr>\n",
       "      <th>2</th>\n",
       "      <td>17.2</td>\n",
       "      <td>45.9</td>\n",
       "      <td>69.3</td>\n",
       "      <td>9.3</td>\n",
       "    </tr>\n",
       "    <tr>\n",
       "      <th>3</th>\n",
       "      <td>151.5</td>\n",
       "      <td>41.3</td>\n",
       "      <td>58.5</td>\n",
       "      <td>18.5</td>\n",
       "    </tr>\n",
       "    <tr>\n",
       "      <th>4</th>\n",
       "      <td>180.8</td>\n",
       "      <td>10.8</td>\n",
       "      <td>58.4</td>\n",
       "      <td>12.9</td>\n",
       "    </tr>\n",
       "  </tbody>\n",
       "</table>\n",
       "</div>"
      ],
      "text/plain": [
       "      TV  radio  newspaper  sales\n",
       "0  230.1   37.8       69.2   22.1\n",
       "1   44.5   39.3       45.1   10.4\n",
       "2   17.2   45.9       69.3    9.3\n",
       "3  151.5   41.3       58.5   18.5\n",
       "4  180.8   10.8       58.4   12.9"
      ]
     },
     "execution_count": 2,
     "metadata": {},
     "output_type": "execute_result"
    }
   ],
   "source": [
    "df_ad = pd.read_csv(\"C://Users//Rahul//ML_data/Advertising.csv\")\n",
    "df_ad.head()"
   ]
  },
  {
   "cell_type": "code",
   "execution_count": 7,
   "id": "96afbfb2",
   "metadata": {},
   "outputs": [],
   "source": [
    "# setting up features\n",
    "X = df_ad.drop([\"sales\"], axis=1)\n",
    "y = df_ad[\"sales\"]"
   ]
  },
  {
   "cell_type": "code",
   "execution_count": 8,
   "id": "4c07fca9",
   "metadata": {},
   "outputs": [
    {
     "data": {
      "text/html": [
       "<div>\n",
       "<style scoped>\n",
       "    .dataframe tbody tr th:only-of-type {\n",
       "        vertical-align: middle;\n",
       "    }\n",
       "\n",
       "    .dataframe tbody tr th {\n",
       "        vertical-align: top;\n",
       "    }\n",
       "\n",
       "    .dataframe thead th {\n",
       "        text-align: right;\n",
       "    }\n",
       "</style>\n",
       "<table border=\"1\" class=\"dataframe\">\n",
       "  <thead>\n",
       "    <tr style=\"text-align: right;\">\n",
       "      <th></th>\n",
       "      <th>TV</th>\n",
       "      <th>radio</th>\n",
       "      <th>newspaper</th>\n",
       "    </tr>\n",
       "  </thead>\n",
       "  <tbody>\n",
       "    <tr>\n",
       "      <th>0</th>\n",
       "      <td>230.1</td>\n",
       "      <td>37.8</td>\n",
       "      <td>69.2</td>\n",
       "    </tr>\n",
       "    <tr>\n",
       "      <th>1</th>\n",
       "      <td>44.5</td>\n",
       "      <td>39.3</td>\n",
       "      <td>45.1</td>\n",
       "    </tr>\n",
       "    <tr>\n",
       "      <th>2</th>\n",
       "      <td>17.2</td>\n",
       "      <td>45.9</td>\n",
       "      <td>69.3</td>\n",
       "    </tr>\n",
       "    <tr>\n",
       "      <th>3</th>\n",
       "      <td>151.5</td>\n",
       "      <td>41.3</td>\n",
       "      <td>58.5</td>\n",
       "    </tr>\n",
       "    <tr>\n",
       "      <th>4</th>\n",
       "      <td>180.8</td>\n",
       "      <td>10.8</td>\n",
       "      <td>58.4</td>\n",
       "    </tr>\n",
       "  </tbody>\n",
       "</table>\n",
       "</div>"
      ],
      "text/plain": [
       "      TV  radio  newspaper\n",
       "0  230.1   37.8       69.2\n",
       "1   44.5   39.3       45.1\n",
       "2   17.2   45.9       69.3\n",
       "3  151.5   41.3       58.5\n",
       "4  180.8   10.8       58.4"
      ]
     },
     "execution_count": 8,
     "metadata": {},
     "output_type": "execute_result"
    }
   ],
   "source": [
    "X.head(5)"
   ]
  },
  {
   "cell_type": "code",
   "execution_count": 9,
   "id": "d14a2bd6",
   "metadata": {},
   "outputs": [
    {
     "data": {
      "text/plain": [
       "0    22.1\n",
       "1    10.4\n",
       "2     9.3\n",
       "3    18.5\n",
       "4    12.9\n",
       "Name: sales, dtype: float64"
      ]
     },
     "execution_count": 9,
     "metadata": {},
     "output_type": "execute_result"
    }
   ],
   "source": [
    "y.head(5)"
   ]
  },
  {
   "cell_type": "code",
   "execution_count": 34,
   "id": "6759ea0f",
   "metadata": {},
   "outputs": [],
   "source": [
    "# First we need to preprocessing our dataset\n",
    "from sklearn.preprocessing import PolynomialFeatures"
   ]
  },
  {
   "cell_type": "code",
   "execution_count": 13,
   "id": "1957846f",
   "metadata": {},
   "outputs": [],
   "source": [
    "poly_converter = PolynomialFeatures(degree = 2,\n",
    "                                    include_bias = False\n",
    ")"
   ]
  },
  {
   "cell_type": "code",
   "execution_count": 15,
   "id": "41749311",
   "metadata": {},
   "outputs": [
    {
     "data": {
      "text/plain": [
       "array([2.301000e+02, 3.780000e+01, 6.920000e+01, 5.294601e+04,\n",
       "       8.697780e+03, 1.592292e+04, 1.428840e+03, 2.615760e+03,\n",
       "       4.788640e+03])"
      ]
     },
     "execution_count": 15,
     "metadata": {},
     "output_type": "execute_result"
    }
   ],
   "source": [
    "# We can preprocess our dataset in two way \n",
    "#poly_converter.fit(X)\n",
    "# poly_features = poly_converter.transform(X) or\n",
    "poly_features = poly_converter.fit_transform(X)\n",
    "poly_features[0]\n"
   ]
  },
  {
   "cell_type": "markdown",
   "id": "89422994",
   "metadata": {},
   "source": [
    "**PolynomaialFeature transform our data in 3 form**\n",
    "\n",
    "  *  1. the real values \n",
    "  *  2. Squared values\n",
    "  *  3. intracted values"
   ]
  },
  {
   "cell_type": "code",
   "execution_count": 16,
   "id": "aa4ac3e0",
   "metadata": {},
   "outputs": [],
   "source": [
    "# we have to split our polynomial dataset\n",
    "from sklearn.model_selection import train_test_split"
   ]
  },
  {
   "cell_type": "code",
   "execution_count": 20,
   "id": "ef14000e",
   "metadata": {},
   "outputs": [],
   "source": [
    "X_train, X_test, y_train, y_test = train_test_split(poly_features,y, test_size = 0.3, random_state = 101)"
   ]
  },
  {
   "cell_type": "code",
   "execution_count": 18,
   "id": "8ba13b56",
   "metadata": {},
   "outputs": [],
   "source": [
    "# now we create our linear regression model with this polynomial data\n",
    "from sklearn.linear_model import LinearRegression"
   ]
  },
  {
   "cell_type": "code",
   "execution_count": 21,
   "id": "8c4f0603",
   "metadata": {},
   "outputs": [
    {
     "data": {
      "text/plain": [
       "LinearRegression()"
      ]
     },
     "execution_count": 21,
     "metadata": {},
     "output_type": "execute_result"
    }
   ],
   "source": [
    "model_2 = LinearRegression()\n",
    "model_2.fit(X_train, y_train)"
   ]
  },
  {
   "cell_type": "code",
   "execution_count": 23,
   "id": "59200820",
   "metadata": {},
   "outputs": [
    {
     "data": {
      "text/plain": [
       "array([13.94856153, 19.33480262, 12.31928162, 16.76286337,  7.90210901,\n",
       "        6.94143792, 20.13372693, 17.50092709, 10.56889   , 20.12551788])"
      ]
     },
     "execution_count": 23,
     "metadata": {},
     "output_type": "execute_result"
    }
   ],
   "source": [
    "# Evaluate our model\n",
    "model_2_preds = model_2.predict(X_test)\n",
    "model_2_preds[:10]"
   ]
  },
  {
   "cell_type": "code",
   "execution_count": 24,
   "id": "ca3f850e",
   "metadata": {},
   "outputs": [],
   "source": [
    "# now calculate the metrics score\n",
    "from sklearn.metrics import mean_absolute_error, mean_squared_error"
   ]
  },
  {
   "cell_type": "code",
   "execution_count": 25,
   "id": "7efc6431",
   "metadata": {},
   "outputs": [
    {
     "data": {
      "text/plain": [
       "0.48967980448035164"
      ]
     },
     "execution_count": 25,
     "metadata": {},
     "output_type": "execute_result"
    }
   ],
   "source": [
    "MAE = mean_absolute_error(y_true = y_test, y_pred = model_2_preds)\n",
    "MAE"
   ]
  },
  {
   "cell_type": "code",
   "execution_count": 26,
   "id": "f43111aa",
   "metadata": {},
   "outputs": [
    {
     "data": {
      "text/plain": [
       "0.4417505510403341"
      ]
     },
     "execution_count": 26,
     "metadata": {},
     "output_type": "execute_result"
    }
   ],
   "source": [
    "MSE = mean_squared_error(y_true=y_test, y_pred=model_2_preds)\n",
    "MSE"
   ]
  },
  {
   "cell_type": "code",
   "execution_count": 28,
   "id": "b255d06c",
   "metadata": {},
   "outputs": [
    {
     "data": {
      "text/plain": [
       "0.6646431757268965"
      ]
     },
     "execution_count": 28,
     "metadata": {},
     "output_type": "execute_result"
    }
   ],
   "source": [
    "RMSE = np.sqrt(MSE)\n",
    "RMSE"
   ]
  },
  {
   "cell_type": "markdown",
   "id": "ec806453",
   "metadata": {},
   "source": [
    "## Overfitting and Underfitting\n",
    "\n",
    "* **Overfitting** -\n",
    "    * `when a model perform very good in train phase but not well on test phase` **or** `show low error on training phase but show high error on testing phase.`\n",
    "    * **Overfitting** `means having high varience and low bias`\n",
    "\n",
    "* **Underfitting** - \n",
    "    * `when a model perform good on testing phase but not well on training phase` **or** `show low error on testing phase but show high error on traingin phase.`\n",
    "    * **Underfitting** `means having low varience and high bias`"
   ]
  },
  {
   "cell_type": "markdown",
   "id": "3b3dae59",
   "metadata": {},
   "source": [
    "## How to choose optimal complexity for model(order of degree in case of Polynomial_regression)?\n",
    "* **We can find our optimal complexity with these steps**\n",
    "    * 1. Create different order of Poly\n",
    "    * 2. Split Poly feat in train/test\n",
    "    * 3. Fit on train\n",
    "    * 4. Store/Save RMSE for both train and test\n",
    "    * 5. Plot the result (**Error vs Poly order**)"
   ]
  },
  {
   "cell_type": "code",
   "execution_count": 50,
   "id": "ea0ee138",
   "metadata": {},
   "outputs": [],
   "source": [
    "# We create a function which contain all steps we mentioned\n",
    "def find_optimal_complexity(n,x , Y):\n",
    "    \"\"\"\n",
    "        input:\n",
    "            n = gives the range/order of degree we have to find\n",
    "            x = fetures dataset\n",
    "            y = true label \n",
    "        return:\n",
    "            train_rmse = RMSE value on training set\n",
    "            test_rmse = RMSE value on test set\n",
    "    \"\"\"\n",
    "    \n",
    "    train_rmse_values =[]\n",
    "    test_rmse_values = []\n",
    "    for i in range(1,n):\n",
    "        poly_converter = PolynomialFeatures(degree = i,include_bias = False)\n",
    "        poly_features = poly_converter.fit_transform(X)\n",
    "        \n",
    "        # split datset\n",
    "        X_train, X_test, y_train, y_test = train_test_split(poly_features, y, test_size = 0.3, random_state = 101)\n",
    "        \n",
    "        # create model\n",
    "        model = LinearRegression()\n",
    "        model.fit(X_train,y_train)\n",
    "        \n",
    "        # make prediction\n",
    "        train_pred = model.predict(X_train)\n",
    "        test_pred = model.predict(X_test)\n",
    "        \n",
    "        train_rmse = np.sqrt(mean_squared_error(y_true = y_train, y_pred = train_pred))\n",
    "        test_rmse = np.sqrt(mean_squared_error(y_true = y_test, y_pred = test_pred))\n",
    "        \n",
    "        # add rms value on train and test list\n",
    "        train_rmse_values.append(train_rmse)\n",
    "        test_rmse_values.append(test_rmse)\n",
    "        \n",
    "        \n",
    "    print(f\"\"\"Train RMSE values: {train_rmse_values}\n",
    "    \\n\\nTest RMSE values: {test_rmse_values}\"\"\")\n",
    "    plt.figure(figsize=(10,7))\n",
    "    plt.plot(range(1,6), train_rmse_values[:5], label = \"Train RMSE\")\n",
    "    plt.plot(range(1,6), test_rmse_values[:5], label = \"Test RMSE\")\n",
    "    plt.xlabel(\"Degree of Polynomial\")\n",
    "    plt.ylabel(\"RMSE values\")\n",
    "    plt.legend();\n",
    "\n",
    "        "
   ]
  },
  {
   "cell_type": "code",
   "execution_count": 51,
   "id": "9ce374a1",
   "metadata": {},
   "outputs": [
    {
     "name": "stdout",
     "output_type": "stream",
     "text": [
      "Train RMSE values: [1.7345941243293763, 0.587957408529223, 0.4339344356902067, 0.35170836883993584, 0.2509342962728227, 0.1994556133865361, 5.418481285535737, 0.1508621033579802, 0.17175170448632276]\n",
      "    \n",
      "\n",
      "Test RMSE values: [1.5161519375993875, 0.6646431757268965, 0.5803286825240505, 0.5077742641892913, 2.575808121294812, 4.263812349320766, 1383.4052620420694, 3733.4225752445113, 95489.26452707677]\n"
     ]
    },
    {
     "data": {
      "image/png": "[encoded data removed]",
      "text/plain": [
       "<Figure size 720x504 with 1 Axes>"
      ]
     },
     "metadata": {
      "needs_background": "light"
     },
     "output_type": "display_data"
    }
   ],
   "source": [
    "find_optimal_complexity(n=10, x = X, Y= y)"
   ]
  },
  {
   "cell_type": "markdown",
   "id": "d89947a1",
   "metadata": {},
   "source": [
    "**Model Deployment**\n",
    "* After find out the optimal poly degree we can finalize our model and than save and load it."
   ]
  },
  {
   "cell_type": "code",
   "execution_count": 52,
   "id": "efb66adc",
   "metadata": {},
   "outputs": [],
   "source": [
    "# Final converter\n",
    "final_converter = PolynomialFeatures(degree = 3,\n",
    "                                    include_bias = False)"
   ]
  },
  {
   "cell_type": "code",
   "execution_count": 54,
   "id": "6622d9ca",
   "metadata": {},
   "outputs": [],
   "source": [
    "converted_featueres = final_converter.fit_transform(X)"
   ]
  },
  {
   "cell_type": "code",
   "execution_count": 55,
   "id": "1ba71e2a",
   "metadata": {},
   "outputs": [],
   "source": [
    "# final model\n",
    "final_poly_model = LinearRegression()\n",
    "final_history = final_poly_model.fit(converted_featueres,y) "
   ]
  },
  {
   "cell_type": "code",
   "execution_count": 58,
   "id": "e43bb8a0",
   "metadata": {},
   "outputs": [],
   "source": [
    "# save and load model\n",
    "from joblib import dump,load"
   ]
  },
  {
   "cell_type": "code",
   "execution_count": 63,
   "id": "d9b690b5",
   "metadata": {},
   "outputs": [
    {
     "data": {
      "text/plain": [
       "['Final_Poly_Model']"
      ]
     },
     "execution_count": 63,
     "metadata": {},
     "output_type": "execute_result"
    }
   ],
   "source": [
    "dump(final_converter, \"Final_Converter\"),\n",
    "dump(final_poly_model, \"Final_Poly_Model\")"
   ]
  },
  {
   "cell_type": "code",
   "execution_count": 64,
   "id": "858eb81e",
   "metadata": {},
   "outputs": [],
   "source": [
    "loaded_converter = load('Final_Converter')"
   ]
  },
  {
   "cell_type": "code",
   "execution_count": 65,
   "id": "68444abb",
   "metadata": {},
   "outputs": [],
   "source": [
    "loaded_model = load('Final_Poly_Model')"
   ]
  },
  {
   "cell_type": "code",
   "execution_count": 66,
   "id": "4e169df7",
   "metadata": {},
   "outputs": [],
   "source": [
    "test_data = [[149,45,68]]"
   ]
  },
  {
   "cell_type": "code",
   "execution_count": 67,
   "id": "89b5d0c8",
   "metadata": {},
   "outputs": [],
   "source": [
    "test_converted_data = loaded_converter.fit_transform(test_data)"
   ]
  },
  {
   "cell_type": "code",
   "execution_count": 68,
   "id": "819e2f5d",
   "metadata": {},
   "outputs": [
    {
     "data": {
      "text/plain": [
       "array([19.22960216])"
      ]
     },
     "execution_count": 68,
     "metadata": {},
     "output_type": "execute_result"
    }
   ],
   "source": [
    "loaded_model.predict(test_converted_data)"
   ]
  },
  {
   "cell_type": "markdown",
   "id": "076a7fd9",
   "metadata": {},
   "source": [
    "## Feature Scaling\n",
    "* **It means the data which is feed to the model is must to be in same scale**\n",
    "\n",
    "* **Benifits of Feature Scaling**\n",
    "   * 1.**Feature scaling doesn't have any downside**\n",
    "   * 2.**Absolutely necessary for some models(eg. KNN)**\n",
    "   * 3.**Can lead to great performance** \n",
    "\n",
    "* **There are two ways of feature scaling**\n",
    "\n",
    "    * 1.**Standardization** - Rescale data to have **mean =  0** and **standard deviation = 1**\n",
    "    \n",
    "    *  2.**Normalization** - Rescaling all data in between **0-1**"
   ]
  },
  {
   "cell_type": "markdown",
   "id": "57978288",
   "metadata": {},
   "source": [
    "## Regularization\n",
    "* **Regularization is a process which is use to solve some issue of model by using:**\n",
    "    * **1.** Minimizing model complexity\n",
    "    * **2.** Penalizing loss function\n",
    "    * **3.** Reducing model's overfitting\n",
    "    \n",
    "### There are mainly three type of Regularization:\n",
    "* **1. L1 Regularization**\n",
    "        * `LASSO Regression`\n",
    "* **2. L2 Regularization**\n",
    "        * `Ridge Regression`\n",
    "* **3. L1 anb L3 Regularization**\n",
    "        * `Elastic Net`"
   ]
  },
  {
   "cell_type": "markdown",
   "id": "2a76bf40",
   "metadata": {},
   "source": [
    "**Setup data for regularization**"
   ]
  },
  {
   "cell_type": "code",
   "execution_count": 1,
   "id": "d9a0133e",
   "metadata": {},
   "outputs": [],
   "source": [
    "import numpy as np\n",
    "import pandas as pd\n",
    "import seaborn as sns \n",
    "import matplotlib.pyplot as plt"
   ]
  },
  {
   "cell_type": "code",
   "execution_count": 2,
   "id": "b3b852de",
   "metadata": {},
   "outputs": [
    {
     "data": {
      "text/html": [
       "<div>\n",
       "<style scoped>\n",
       "    .dataframe tbody tr th:only-of-type {\n",
       "        vertical-align: middle;\n",
       "    }\n",
       "\n",
       "    .dataframe tbody tr th {\n",
       "        vertical-align: top;\n",
       "    }\n",
       "\n",
       "    .dataframe thead th {\n",
       "        text-align: right;\n",
       "    }\n",
       "</style>\n",
       "<table border=\"1\" class=\"dataframe\">\n",
       "  <thead>\n",
       "    <tr style=\"text-align: right;\">\n",
       "      <th></th>\n",
       "      <th>TV</th>\n",
       "      <th>radio</th>\n",
       "      <th>newspaper</th>\n",
       "      <th>sales</th>\n",
       "    </tr>\n",
       "  </thead>\n",
       "  <tbody>\n",
       "    <tr>\n",
       "      <th>0</th>\n",
       "      <td>230.1</td>\n",
       "      <td>37.8</td>\n",
       "      <td>69.2</td>\n",
       "      <td>22.1</td>\n",
       "    </tr>\n",
       "    <tr>\n",
       "      <th>1</th>\n",
       "      <td>44.5</td>\n",
       "      <td>39.3</td>\n",
       "      <td>45.1</td>\n",
       "      <td>10.4</td>\n",
       "    </tr>\n",
       "    <tr>\n",
       "      <th>2</th>\n",
       "      <td>17.2</td>\n",
       "      <td>45.9</td>\n",
       "      <td>69.3</td>\n",
       "      <td>9.3</td>\n",
       "    </tr>\n",
       "    <tr>\n",
       "      <th>3</th>\n",
       "      <td>151.5</td>\n",
       "      <td>41.3</td>\n",
       "      <td>58.5</td>\n",
       "      <td>18.5</td>\n",
       "    </tr>\n",
       "    <tr>\n",
       "      <th>4</th>\n",
       "      <td>180.8</td>\n",
       "      <td>10.8</td>\n",
       "      <td>58.4</td>\n",
       "      <td>12.9</td>\n",
       "    </tr>\n",
       "  </tbody>\n",
       "</table>\n",
       "</div>"
      ],
      "text/plain": [
       "      TV  radio  newspaper  sales\n",
       "0  230.1   37.8       69.2   22.1\n",
       "1   44.5   39.3       45.1   10.4\n",
       "2   17.2   45.9       69.3    9.3\n",
       "3  151.5   41.3       58.5   18.5\n",
       "4  180.8   10.8       58.4   12.9"
      ]
     },
     "execution_count": 2,
     "metadata": {},
     "output_type": "execute_result"
    }
   ],
   "source": [
    "new_df = pd.read_csv(\"C:\\\\Users\\\\Rahul\\\\ML_data\\\\ad.csv\")\n",
    "new_df.head()"
   ]
  },
  {
   "cell_type": "code",
   "execution_count": 4,
   "id": "b95d4913",
   "metadata": {},
   "outputs": [
    {
     "data": {
      "text/html": [
       "<div>\n",
       "<style scoped>\n",
       "    .dataframe tbody tr th:only-of-type {\n",
       "        vertical-align: middle;\n",
       "    }\n",
       "\n",
       "    .dataframe tbody tr th {\n",
       "        vertical-align: top;\n",
       "    }\n",
       "\n",
       "    .dataframe thead th {\n",
       "        text-align: right;\n",
       "    }\n",
       "</style>\n",
       "<table border=\"1\" class=\"dataframe\">\n",
       "  <thead>\n",
       "    <tr style=\"text-align: right;\">\n",
       "      <th></th>\n",
       "      <th>TV</th>\n",
       "      <th>radio</th>\n",
       "      <th>newspaper</th>\n",
       "    </tr>\n",
       "  </thead>\n",
       "  <tbody>\n",
       "    <tr>\n",
       "      <th>0</th>\n",
       "      <td>230.1</td>\n",
       "      <td>37.8</td>\n",
       "      <td>69.2</td>\n",
       "    </tr>\n",
       "    <tr>\n",
       "      <th>1</th>\n",
       "      <td>44.5</td>\n",
       "      <td>39.3</td>\n",
       "      <td>45.1</td>\n",
       "    </tr>\n",
       "    <tr>\n",
       "      <th>2</th>\n",
       "      <td>17.2</td>\n",
       "      <td>45.9</td>\n",
       "      <td>69.3</td>\n",
       "    </tr>\n",
       "    <tr>\n",
       "      <th>3</th>\n",
       "      <td>151.5</td>\n",
       "      <td>41.3</td>\n",
       "      <td>58.5</td>\n",
       "    </tr>\n",
       "    <tr>\n",
       "      <th>4</th>\n",
       "      <td>180.8</td>\n",
       "      <td>10.8</td>\n",
       "      <td>58.4</td>\n",
       "    </tr>\n",
       "  </tbody>\n",
       "</table>\n",
       "</div>"
      ],
      "text/plain": [
       "      TV  radio  newspaper\n",
       "0  230.1   37.8       69.2\n",
       "1   44.5   39.3       45.1\n",
       "2   17.2   45.9       69.3\n",
       "3  151.5   41.3       58.5\n",
       "4  180.8   10.8       58.4"
      ]
     },
     "execution_count": 4,
     "metadata": {},
     "output_type": "execute_result"
    }
   ],
   "source": [
    "X_new = new_df.drop([\"sales\"], axis = 1)\n",
    "X_new.head()"
   ]
  },
  {
   "cell_type": "code",
   "execution_count": 5,
   "id": "2c61af89",
   "metadata": {},
   "outputs": [
    {
     "data": {
      "text/plain": [
       "0    22.1\n",
       "1    10.4\n",
       "2     9.3\n",
       "3    18.5\n",
       "4    12.9\n",
       "Name: sales, dtype: float64"
      ]
     },
     "execution_count": 5,
     "metadata": {},
     "output_type": "execute_result"
    }
   ],
   "source": [
    "y_new = new_df[\"sales\"]\n",
    "y_new.head()"
   ]
  },
  {
   "cell_type": "code",
   "execution_count": 7,
   "id": "58c76060",
   "metadata": {},
   "outputs": [],
   "source": [
    "from sklearn.preprocessing import PolynomialFeatures"
   ]
  },
  {
   "cell_type": "code",
   "execution_count": 8,
   "id": "6279eda5",
   "metadata": {},
   "outputs": [],
   "source": [
    "poly_converter = PolynomialFeatures(degree=3,\n",
    "                                   include_bias = False)"
   ]
  },
  {
   "cell_type": "code",
   "execution_count": 9,
   "id": "f102f82c",
   "metadata": {},
   "outputs": [],
   "source": [
    "poly_features = poly_converter.fit_transform(X_new)"
   ]
  },
  {
   "cell_type": "code",
   "execution_count": 6,
   "id": "0ed5e026",
   "metadata": {},
   "outputs": [],
   "source": [
    "from sklearn.model_selection import train_test_split"
   ]
  },
  {
   "cell_type": "code",
   "execution_count": 14,
   "id": "54d0916f",
   "metadata": {},
   "outputs": [],
   "source": [
    "X_train, X_test, y_train, y_test = train_test_split(poly_features,y_new,\n",
    "                                                   test_size = 0.3,\n",
    "                                                   random_state = 101)"
   ]
  },
  {
   "cell_type": "code",
   "execution_count": 17,
   "id": "213b877d",
   "metadata": {},
   "outputs": [],
   "source": [
    "# Now scaling our data\n",
    "from sklearn.preprocessing import StandardScaler"
   ]
  },
  {
   "cell_type": "code",
   "execution_count": 18,
   "id": "7d76b237",
   "metadata": {},
   "outputs": [],
   "source": [
    "scaler = StandardScaler()"
   ]
  },
  {
   "cell_type": "code",
   "execution_count": 19,
   "id": "929fe89e",
   "metadata": {},
   "outputs": [
    {
     "data": {
      "text/plain": [
       "StandardScaler()"
      ]
     },
     "execution_count": 19,
     "metadata": {},
     "output_type": "execute_result"
    }
   ],
   "source": [
    "scaler.fit(X_train)"
   ]
  },
  {
   "cell_type": "code",
   "execution_count": 20,
   "id": "8a3a65db",
   "metadata": {},
   "outputs": [],
   "source": [
    "scaled_X_train = scaler.transform(X_train)\n"
   ]
  },
  {
   "cell_type": "code",
   "execution_count": 23,
   "id": "59f25ffa",
   "metadata": {},
   "outputs": [],
   "source": [
    "scaled_X_test = scaler.transform(X_test)"
   ]
  },
  {
   "cell_type": "code",
   "execution_count": 24,
   "id": "266cba84",
   "metadata": {},
   "outputs": [
    {
     "data": {
      "text/plain": [
       "array([-0.91339472,  1.76259419,  0.68168558, -0.96397506,  0.01521221,\n",
       "       -0.29304821,  2.31532893,  1.56001049,  0.36991011, -0.87527811,\n",
       "       -0.53295016, -0.54312331,  0.43542739,  0.18669917, -0.2012045 ,\n",
       "        2.77252075,  2.09516506,  0.89465642,  0.09868885])"
      ]
     },
     "execution_count": 24,
     "metadata": {},
     "output_type": "execute_result"
    }
   ],
   "source": [
    "scaled_X_test[0]"
   ]
  },
  {
   "cell_type": "markdown",
   "id": "4c7f8e46",
   "metadata": {},
   "source": [
    "## L2 Regularization\n",
    "* **Ridge Regression -- It consider the squared value as a panlty term** "
   ]
  },
  {
   "cell_type": "code",
   "execution_count": 25,
   "id": "1de5ca20",
   "metadata": {},
   "outputs": [],
   "source": [
    "from sklearn.linear_model import Ridge"
   ]
  },
  {
   "cell_type": "code",
   "execution_count": 26,
   "id": "ba72d958",
   "metadata": {},
   "outputs": [],
   "source": [
    "ridge_model = Ridge(alpha = 10)"
   ]
  },
  {
   "cell_type": "code",
   "execution_count": 27,
   "id": "75dc476d",
   "metadata": {},
   "outputs": [
    {
     "data": {
      "text/plain": [
       "Ridge(alpha=10)"
      ]
     },
     "execution_count": 27,
     "metadata": {},
     "output_type": "execute_result"
    }
   ],
   "source": [
    "# Fit ridge model\n",
    "ridge_model.fit(X_train, y_train)"
   ]
  },
  {
   "cell_type": "code",
   "execution_count": 29,
   "id": "76239082",
   "metadata": {},
   "outputs": [
    {
     "data": {
      "text/plain": [
       "array([14.61569468, 19.05556819, 12.6039876 , 17.28961187,  7.78864909,\n",
       "        6.81305993, 19.95694185, 17.13239239, 10.40444174, 19.71335719,\n",
       "        9.40991502, 13.98886007, 11.61931653, 22.97819913, 18.94783794,\n",
       "        9.4058409 , 12.33353412,  9.43920912,  8.75105786, 21.27810981,\n",
       "        6.82406417, 19.30197888, 27.38926848, 24.37115969,  9.48061721,\n",
       "       11.25353193, 20.72759282,  9.64075111, 12.52208246,  8.43511532,\n",
       "        8.82148151, 19.76590095, 10.92332395,  6.96458976, 18.08107682,\n",
       "        9.45089373, 10.72035992,  9.94307289,  7.08249035, 10.77031383,\n",
       "       12.02882303, 10.34159528, 11.58236565,  7.64519503, 11.89297429,\n",
       "       10.74690635,  5.14649688, 15.2778868 , 12.95968984, 22.42599783,\n",
       "       10.71875617, 12.7793645 , 14.8969074 , 12.2440065 , 11.12965535,\n",
       "        4.91715713, 24.94861314,  9.50073701, 17.29060618, 15.53931369])"
      ]
     },
     "execution_count": 29,
     "metadata": {},
     "output_type": "execute_result"
    }
   ],
   "source": [
    "ridge_preds = ridge_model.predict(X_test)\n",
    "ridge_preds"
   ]
  },
  {
   "cell_type": "code",
   "execution_count": 30,
   "id": "e4cdaecf",
   "metadata": {},
   "outputs": [],
   "source": [
    "from sklearn.metrics import mean_squared_error, mean_absolute_error"
   ]
  },
  {
   "cell_type": "code",
   "execution_count": 31,
   "id": "9ad1117a",
   "metadata": {},
   "outputs": [
    {
     "data": {
      "text/plain": [
       "0.41268949370739266"
      ]
     },
     "execution_count": 31,
     "metadata": {},
     "output_type": "execute_result"
    }
   ],
   "source": [
    "MAE = mean_absolute_error(y_test, ridge_preds)\n",
    "MAE"
   ]
  },
  {
   "cell_type": "code",
   "execution_count": 53,
   "id": "aaf25b84",
   "metadata": {},
   "outputs": [],
   "source": [
    "RMSE = np.sqrt(mean_squared_error(y_test, ridge_preds))"
   ]
  },
  {
   "cell_type": "code",
   "execution_count": 54,
   "id": "02d8659a",
   "metadata": {},
   "outputs": [
    {
     "data": {
      "text/plain": [
       "0.5805273045659067"
      ]
     },
     "execution_count": 54,
     "metadata": {},
     "output_type": "execute_result"
    }
   ],
   "source": [
    "RMSE"
   ]
  },
  {
   "cell_type": "markdown",
   "id": "299146fd",
   "metadata": {},
   "source": [
    "**For find out best alpha vaslue we use `RidgeCV model`**"
   ]
  },
  {
   "cell_type": "code",
   "execution_count": 34,
   "id": "1c9084ca",
   "metadata": {},
   "outputs": [],
   "source": [
    "from sklearn.linear_model import RidgeCV"
   ]
  },
  {
   "cell_type": "code",
   "execution_count": 35,
   "id": "c36a4add",
   "metadata": {},
   "outputs": [
    {
     "data": {
      "text/plain": [
       "dict_keys(['explained_variance', 'r2', 'max_error', 'neg_median_absolute_error', 'neg_mean_absolute_error', 'neg_mean_absolute_percentage_error', 'neg_mean_squared_error', 'neg_mean_squared_log_error', 'neg_root_mean_squared_error', 'neg_mean_poisson_deviance', 'neg_mean_gamma_deviance', 'accuracy', 'top_k_accuracy', 'roc_auc', 'roc_auc_ovr', 'roc_auc_ovo', 'roc_auc_ovr_weighted', 'roc_auc_ovo_weighted', 'balanced_accuracy', 'average_precision', 'neg_log_loss', 'neg_brier_score', 'adjusted_rand_score', 'rand_score', 'homogeneity_score', 'completeness_score', 'v_measure_score', 'mutual_info_score', 'adjusted_mutual_info_score', 'normalized_mutual_info_score', 'fowlkes_mallows_score', 'precision', 'precision_macro', 'precision_micro', 'precision_samples', 'precision_weighted', 'recall', 'recall_macro', 'recall_micro', 'recall_samples', 'recall_weighted', 'f1', 'f1_macro', 'f1_micro', 'f1_samples', 'f1_weighted', 'jaccard', 'jaccard_macro', 'jaccard_micro', 'jaccard_samples', 'jaccard_weighted'])"
      ]
     },
     "execution_count": 35,
     "metadata": {},
     "output_type": "execute_result"
    }
   ],
   "source": [
    "# for find out the scoring metrics\n",
    "from sklearn.metrics import SCORERS\n",
    "SCORERS.keys()"
   ]
  },
  {
   "cell_type": "code",
   "execution_count": 48,
   "id": "b67b100a",
   "metadata": {},
   "outputs": [],
   "source": [
    "ridge_cv_model = RidgeCV(alphas = (0.1, 1.0, 10.0),\n",
    "                        scoring ='neg_mean_absolute_error' )"
   ]
  },
  {
   "cell_type": "code",
   "execution_count": 49,
   "id": "c01adc5e",
   "metadata": {},
   "outputs": [
    {
     "data": {
      "text/plain": [
       "RidgeCV(alphas=array([ 0.1,  1. , 10. ]), scoring='neg_mean_absolute_error')"
      ]
     },
     "execution_count": 49,
     "metadata": {},
     "output_type": "execute_result"
    }
   ],
   "source": [
    "ridge_cv_model.fit(X_train, y_train)"
   ]
  },
  {
   "cell_type": "code",
   "execution_count": 52,
   "id": "5fe3b55b",
   "metadata": {},
   "outputs": [
    {
     "data": {
      "text/plain": [
       "10.0"
      ]
     },
     "execution_count": 52,
     "metadata": {},
     "output_type": "execute_result"
    }
   ],
   "source": [
    "ridge_cv_model.alpha_"
   ]
  },
  {
   "cell_type": "code",
   "execution_count": 56,
   "id": "d940052d",
   "metadata": {},
   "outputs": [],
   "source": [
    "ridge_cv_preds = ridge_cv_model.predict(X_test)"
   ]
  },
  {
   "cell_type": "code",
   "execution_count": 57,
   "id": "7710698d",
   "metadata": {},
   "outputs": [
    {
     "data": {
      "text/plain": [
       "0.6557988200919053"
      ]
     },
     "execution_count": 57,
     "metadata": {},
     "output_type": "execute_result"
    }
   ],
   "source": [
    "MAE = mean_absolute_error(y_test, ridge_cv_preds)\n",
    "MAE"
   ]
  },
  {
   "cell_type": "code",
   "execution_count": 58,
   "id": "7ece9f8e",
   "metadata": {},
   "outputs": [
    {
     "data": {
      "text/plain": [
       "0.8501490287838902"
      ]
     },
     "execution_count": 58,
     "metadata": {},
     "output_type": "execute_result"
    }
   ],
   "source": [
    "RMSE = np.sqrt(mean_squared_error(y_test, ridge_cv_preds))\n",
    "RMSE"
   ]
  },
  {
   "cell_type": "code",
   "execution_count": 60,
   "id": "015a55d5",
   "metadata": {},
   "outputs": [
    {
     "data": {
      "text/plain": [
       "array([ 8.51968371e-02,  2.99658968e-02,  1.20416099e-02, -4.07133838e-04,\n",
       "        1.55118150e-03, -3.34145617e-04, -1.74740473e-03,  8.97282506e-04,\n",
       "        2.56929054e-04,  7.81285053e-07, -1.76613321e-06,  1.07781216e-06,\n",
       "        2.61235675e-06, -1.71892634e-06,  2.84462658e-08,  2.18380566e-05,\n",
       "       -8.51356924e-06, -3.72066677e-06, -1.91520962e-06])"
      ]
     },
     "execution_count": 60,
     "metadata": {},
     "output_type": "execute_result"
    }
   ],
   "source": [
    "ridge_cv_model.coef_"
   ]
  },
  {
   "cell_type": "markdown",
   "id": "93670783",
   "metadata": {},
   "source": [
    "## L1 Regularization\n",
    "* **LASSO(least absolute shrinkage and selection operator) Regression -- It consider absolute value as penalty term**"
   ]
  },
  {
   "cell_type": "code",
   "execution_count": 61,
   "id": "f3afd9ff",
   "metadata": {},
   "outputs": [],
   "source": [
    "from sklearn.linear_model import LassoCV"
   ]
  },
  {
   "cell_type": "code",
   "execution_count": 66,
   "id": "3fc5105b",
   "metadata": {},
   "outputs": [],
   "source": [
    "lasso_cv_model = LassoCV(eps=0.001,\n",
    "                       n_alphas = 100,\n",
    "                       cv = 5)"
   ]
  },
  {
   "cell_type": "code",
   "execution_count": 67,
   "id": "1ce536c3",
   "metadata": {},
   "outputs": [
    {
     "data": {
      "text/plain": [
       "LassoCV(cv=5)"
      ]
     },
     "execution_count": 67,
     "metadata": {},
     "output_type": "execute_result"
    }
   ],
   "source": [
    "# Fit the model \n",
    "lasso_cv_model.fit(X_train, y_train)"
   ]
  },
  {
   "cell_type": "code",
   "execution_count": 68,
   "id": "b12ccabe",
   "metadata": {},
   "outputs": [
    {
     "data": {
      "text/plain": [
       "23954.310622080102"
      ]
     },
     "execution_count": 68,
     "metadata": {},
     "output_type": "execute_result"
    }
   ],
   "source": [
    "lasso_cv_model.alpha_"
   ]
  },
  {
   "cell_type": "code",
   "execution_count": 69,
   "id": "5998bb02",
   "metadata": {},
   "outputs": [
    {
     "data": {
      "text/plain": [
       "array([12.96069628, 19.6671019 , 11.23840679, 14.74941686, 10.35849936,\n",
       "       10.1402829 , 20.81599248, 16.15006685, 10.43029739, 18.91903149,\n",
       "       10.93097952, 12.67060036, 11.59795582, 22.30691819, 17.38068212,\n",
       "       10.56452759, 12.40148026, 10.1836883 , 10.24239507, 21.13312766,\n",
       "       10.17816211, 17.25360462, 31.54511442, 26.22347991, 10.31570212,\n",
       "       10.9921257 , 23.17369773, 10.29536614, 11.5318884 , 10.49802655,\n",
       "       10.4432991 , 18.89206171, 10.60609839, 10.11102853, 16.09343223,\n",
       "       10.14731358, 10.53126357, 10.30773563, 10.25401316, 10.62575374,\n",
       "       11.54271622, 10.36731053, 10.77845764, 10.18550456, 11.20683031,\n",
       "       10.73289192, 10.12191332, 14.09222297, 11.6852337 , 21.44342123,\n",
       "       11.06222413, 12.08520501, 14.88623811, 11.17901005, 11.02926807,\n",
       "       10.07388674, 28.13970918, 11.0075053 , 17.90182578, 13.72542548])"
      ]
     },
     "execution_count": 69,
     "metadata": {},
     "output_type": "execute_result"
    }
   ],
   "source": [
    "lasso_preds = lasso_cv_model.predict(X_test)\n",
    "lasso_preds"
   ]
  },
  {
   "cell_type": "code",
   "execution_count": 71,
   "id": "ea5a71b5",
   "metadata": {},
   "outputs": [
    {
     "data": {
      "text/plain": [
       "1.3018706584630582"
      ]
     },
     "execution_count": 71,
     "metadata": {},
     "output_type": "execute_result"
    }
   ],
   "source": [
    "MAE = mean_absolute_error(y_true = y_test, y_pred = lasso_preds)\n",
    "MAE"
   ]
  },
  {
   "cell_type": "code",
   "execution_count": 72,
   "id": "79e555fc",
   "metadata": {},
   "outputs": [
    {
     "data": {
      "text/plain": [
       "1.866983482837324"
      ]
     },
     "execution_count": 72,
     "metadata": {},
     "output_type": "execute_result"
    }
   ],
   "source": [
    "RMSE = np.sqrt(mean_squared_error(y_test, lasso_preds))\n",
    "RMSE"
   ]
  },
  {
   "cell_type": "code",
   "execution_count": 75,
   "id": "f691a373",
   "metadata": {},
   "outputs": [
    {
     "data": {
      "text/plain": [
       "array([ 0.00000000e+00,  0.00000000e+00,  0.00000000e+00,  0.00000000e+00,\n",
       "        0.00000000e+00,  0.00000000e+00,  0.00000000e+00,  0.00000000e+00,\n",
       "        0.00000000e+00,  9.58795042e-08,  3.47802818e-06, -2.10588790e-07,\n",
       "        1.06879921e-05,  0.00000000e+00,  0.00000000e+00,  0.00000000e+00,\n",
       "       -0.00000000e+00, -0.00000000e+00, -0.00000000e+00])"
      ]
     },
     "execution_count": 75,
     "metadata": {},
     "output_type": "execute_result"
    }
   ],
   "source": [
    "lasso_cv_model.coef_"
   ]
  },
  {
   "cell_type": "markdown",
   "id": "0dacf99e",
   "metadata": {},
   "source": [
    "## L1 & L2 Regularization\n",
    "* **Elastic Net**"
   ]
  },
  {
   "cell_type": "code",
   "execution_count": 77,
   "id": "38950a95",
   "metadata": {},
   "outputs": [],
   "source": [
    "from sklearn.linear_model import ElasticNetCV"
   ]
  },
  {
   "cell_type": "code",
   "execution_count": 81,
   "id": "038da493",
   "metadata": {},
   "outputs": [],
   "source": [
    "elastic_model = ElasticNetCV(l1_ratio = [.1, .5, .7,\n",
    "    .9, .95, .99, 1],eps = 0.002, n_alphas = 100, cv = 5,\n",
    "                             max_iter = 1000000)"
   ]
  },
  {
   "cell_type": "code",
   "execution_count": 82,
   "id": "b7d103e3",
   "metadata": {},
   "outputs": [
    {
     "data": {
      "text/plain": [
       "ElasticNetCV(cv=5, eps=0.002, l1_ratio=[0.1, 0.5, 0.7, 0.9, 0.95, 0.99, 1],\n",
       "             max_iter=1000000)"
      ]
     },
     "execution_count": 82,
     "metadata": {},
     "output_type": "execute_result"
    }
   ],
   "source": [
    "# Fit the model\n",
    "elastic_model.fit(X_train, y_train)"
   ]
  },
  {
   "cell_type": "code",
   "execution_count": 83,
   "id": "2fa90652",
   "metadata": {},
   "outputs": [
    {
     "data": {
      "text/plain": [
       "47908.62124416021"
      ]
     },
     "execution_count": 83,
     "metadata": {},
     "output_type": "execute_result"
    }
   ],
   "source": [
    "elastic_model.alpha_"
   ]
  },
  {
   "cell_type": "code",
   "execution_count": 84,
   "id": "9e02f605",
   "metadata": {},
   "outputs": [
    {
     "data": {
      "text/plain": [
       "array([11.88484167, 20.30443389, 11.48724459, 13.50750171, 10.47949741,\n",
       "       10.37011972, 21.45939089, 16.60594297, 10.54528523, 19.11517283,\n",
       "       10.68081304, 13.05315317, 11.28784089, 20.93093463, 17.24761217,\n",
       "       10.62605226, 11.64446155, 10.40542962, 10.49122757, 21.12144378,\n",
       "       10.38116656, 16.72051154, 30.95911855, 26.0896312 , 10.58833365,\n",
       "       10.82536319, 24.00788126, 10.54399606, 11.82037427, 10.42180738,\n",
       "       10.45015893, 19.06084889, 10.82578684, 10.35131343, 16.01772062,\n",
       "       10.36362612, 10.80313211, 10.57454684, 10.3696047 , 10.70197296,\n",
       "       11.18884974, 10.48497656, 11.03418401, 10.37863076, 11.19870938,\n",
       "       10.87698281, 10.34330378, 14.46122306, 11.94948547, 20.25283518,\n",
       "       10.77621455, 12.20864088, 14.68931739, 11.47294322, 10.8384159 ,\n",
       "       10.33786289, 28.03813406, 10.71769645, 18.47800307, 14.05286566])"
      ]
     },
     "execution_count": 84,
     "metadata": {},
     "output_type": "execute_result"
    }
   ],
   "source": [
    "# prediction\n",
    "elastic_model_preds = elastic_model.predict(X_test)\n",
    "elastic_model_preds"
   ]
  },
  {
   "cell_type": "code",
   "execution_count": 85,
   "id": "c5028a8f",
   "metadata": {},
   "outputs": [
    {
     "data": {
      "text/plain": [
       "1.4220327716613939"
      ]
     },
     "execution_count": 85,
     "metadata": {},
     "output_type": "execute_result"
    }
   ],
   "source": [
    "# Evaluate model\n",
    "MAE = mean_absolute_error(y_test, elastic_model_preds)\n",
    "MAE"
   ]
  },
  {
   "cell_type": "code",
   "execution_count": 86,
   "id": "c6743056",
   "metadata": {},
   "outputs": [],
   "source": [
    "RMSE = np.sqrt(mean_squared_error(y_test, elastic_model_preds))"
   ]
  },
  {
   "cell_type": "code",
   "execution_count": 87,
   "id": "4e74d048",
   "metadata": {},
   "outputs": [
    {
     "data": {
      "text/plain": [
       "2.0196803835764574"
      ]
     },
     "execution_count": 87,
     "metadata": {},
     "output_type": "execute_result"
    }
   ],
   "source": [
    "RMSE"
   ]
  },
  {
   "cell_type": "code",
   "execution_count": 88,
   "id": "53e47c5a",
   "metadata": {},
   "outputs": [
    {
     "data": {
      "text/plain": [
       "array([ 0.00000000e+00,  0.00000000e+00,  0.00000000e+00,  0.00000000e+00,\n",
       "        0.00000000e+00,  0.00000000e+00,  0.00000000e+00,  0.00000000e+00,\n",
       "        0.00000000e+00,  1.53263257e-08,  5.53996772e-06, -2.31546954e-07,\n",
       "        4.04793193e-07,  0.00000000e+00,  0.00000000e+00,  0.00000000e+00,\n",
       "        0.00000000e+00,  0.00000000e+00, -0.00000000e+00])"
      ]
     },
     "execution_count": 88,
     "metadata": {},
     "output_type": "execute_result"
    }
   ],
   "source": [
    "elastic_model.coef_"
   ]
  },
  {
   "cell_type": "code",
   "execution_count": 89,
   "id": "4db45951",
   "metadata": {},
   "outputs": [
    {
     "data": {
      "text/plain": [
       "1.0"
      ]
     },
     "execution_count": 89,
     "metadata": {},
     "output_type": "execute_result"
    }
   ],
   "source": [
    "elastic_model.l1_ratio_"
   ]
  },
  {
   "cell_type": "code",
   "execution_count": null,
   "id": "aee4a598",
   "metadata": {},
   "outputs": [],
   "source": []
  }
 ],
 "metadata": {
  "kernelspec": {
   "display_name": "Python 3 (ipykernel)",
   "language": "python",
   "name": "python3"
  },
  "language_info": {
   "codemirror_mode": {
    "name": "ipython",
    "version": 3
   },
   "file_extension": ".py",
   "mimetype": "text/x-python",
   "name": "python",
   "nbconvert_exporter": "python",
   "pygments_lexer": "ipython3",
   "version": "3.9.7"
  }
 },
 "nbformat": 4,
 "nbformat_minor": 5
}
